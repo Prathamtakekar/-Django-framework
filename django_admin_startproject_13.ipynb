{
  "nbformat": 4,
  "nbformat_minor": 0,
  "metadata": {
    "colab": {
      "provenance": []
    },
    "kernelspec": {
      "name": "python3",
      "display_name": "Python 3"
    },
    "language_info": {
      "name": "python"
    }
  },
  "cells": [
    {
      "cell_type": "code",
      "execution_count": null,
      "metadata": {
        "colab": {
          "base_uri": "https://localhost:8080/"
        },
        "id": "ZTJw-WQsTvc-",
        "outputId": "545301d7-dcb7-478d-a053-3d38fca24a39"
      },
      "outputs": [
        {
          "output_type": "stream",
          "name": "stdout",
          "text": [
            "Collecting django\n",
            "  Downloading Django-5.2-py3-none-any.whl.metadata (4.1 kB)\n",
            "Collecting pyngrok\n",
            "  Downloading pyngrok-7.2.5-py3-none-any.whl.metadata (8.9 kB)\n",
            "Collecting asgiref>=3.8.1 (from django)\n",
            "  Downloading asgiref-3.8.1-py3-none-any.whl.metadata (9.3 kB)\n",
            "Requirement already satisfied: sqlparse>=0.3.1 in /usr/local/lib/python3.11/dist-packages (from django) (0.5.3)\n",
            "Requirement already satisfied: PyYAML>=5.1 in /usr/local/lib/python3.11/dist-packages (from pyngrok) (6.0.2)\n",
            "Downloading Django-5.2-py3-none-any.whl (8.3 MB)\n",
            "\u001b[2K   \u001b[90m━━━━━━━━━━━━━━━━━━━━━━━━━━━━━━━━━━━━━━━━\u001b[0m \u001b[32m8.3/8.3 MB\u001b[0m \u001b[31m32.8 MB/s\u001b[0m eta \u001b[36m0:00:00\u001b[0m\n",
            "\u001b[?25hDownloading pyngrok-7.2.5-py3-none-any.whl (23 kB)\n",
            "Downloading asgiref-3.8.1-py3-none-any.whl (23 kB)\n",
            "Installing collected packages: pyngrok, asgiref, django\n",
            "Successfully installed asgiref-3.8.1 django-5.2 pyngrok-7.2.5\n"
          ]
        }
      ],
      "source": [
        "!pip install django pyngrok\n"
      ]
    },
    {
      "source": [
        "import fileinput\n",
        "import os\n",
        "\n",
        "# Get the absolute path to the settings file\n",
        "# Assuming the file is in the same directory as the notebook\n",
        "settings_path = os.path.join(os.getcwd(), \"taskmanager\", \"settings.py\")\n",
        "\n",
        "# Check if the settings file exists before proceeding\n",
        "if os.path.exists(settings_path):\n",
        "    for line in fileinput.input(settings_path, inplace=True):\n",
        "        if line.strip() == \"INSTALLED_APPS = [\":\n",
        "            print(\"INSTALLED_APPS = [\\n    'tasks',\", end=\"\\n\")\n",
        "        else:\n",
        "            print(line, end=\"\")\n",
        "else:\n",
        "    print(f\"Error: settings file not found at {settings_path}\")"
      ],
      "cell_type": "code",
      "metadata": {
        "colab": {
          "base_uri": "https://localhost:8080/"
        },
        "id": "G4HCAduGURp0",
        "outputId": "a35d6f7a-a076-410e-d241-252600fcc781"
      },
      "execution_count": null,
      "outputs": [
        {
          "output_type": "stream",
          "name": "stdout",
          "text": [
            "Error: settings file not found at /content/taskmanager/settings.py\n"
          ]
        }
      ]
    },
    {
      "source": [
        "import os\n",
        "task_model_code = '''\n",
        "from django.db import models\n",
        "\n",
        "class Task(models.Model):\n",
        "    title = models.CharField(max_length=100)\n",
        "    description = models.TextField(blank=True)\n",
        "    completed = models.BooleanField(default=False)\n",
        "\n",
        "    def __str__(self):\n",
        "        return self.title\n",
        "'''\n",
        "\n",
        "# Create the 'tasks' directory if it doesn't exist\n",
        "if not os.path.exists('tasks'):\n",
        "    os.makedirs('tasks')\n",
        "\n",
        "with open(\"tasks/models.py\", \"w\") as f:\n",
        "    f.write(task_model_code)"
      ],
      "cell_type": "code",
      "metadata": {
        "id": "r1aK2m1lUlbH"
      },
      "execution_count": null,
      "outputs": []
    },
    {
      "cell_type": "code",
      "source": [
        "!python manage.py makemigrations\n",
        "!python manage.py migrate\n"
      ],
      "metadata": {
        "colab": {
          "base_uri": "https://localhost:8080/"
        },
        "id": "lx0Z4tGeUesf",
        "outputId": "9dc72aee-8f33-4b28-cc2e-3da832d041b5"
      },
      "execution_count": null,
      "outputs": [
        {
          "output_type": "stream",
          "name": "stdout",
          "text": [
            "python3: can't open file '/content/manage.py': [Errno 2] No such file or directory\n",
            "python3: can't open file '/content/manage.py': [Errno 2] No such file or directory\n"
          ]
        }
      ]
    },
    {
      "cell_type": "code",
      "source": [
        "views_code = '''\n",
        "from django.shortcuts import render, redirect, get_object_or_404\n",
        "from .models import Task\n",
        "\n",
        "def task_list(request):\n",
        "    tasks = Task.objects.all()\n",
        "    return render(request, 'tasks/task_list.html', {'tasks': tasks})\n",
        "\n",
        "def add_task(request):\n",
        "    if request.method == 'POST':\n",
        "        Task.objects.create(\n",
        "            title=request.POST['title'],\n",
        "            description=request.POST['description']\n",
        "        )\n",
        "        return redirect('task_list')\n",
        "    return render(request, 'tasks/add_task.html')\n",
        "\n",
        "def update_task(request, id):\n",
        "    task = get_object_or_404(Task, id=id)\n",
        "    if request.method == 'POST':\n",
        "        task.title = request.POST['title']\n",
        "        task.description = request.POST['description']\n",
        "        task.completed = 'completed' in request.POST\n",
        "        task.save()\n",
        "        return redirect('task_list')\n",
        "    return render(request, 'tasks/update_task.html', {'task': task})\n",
        "\n",
        "def delete_task(request, id):\n",
        "    task = get_object_or_404(Task, id=id)\n",
        "    task.delete()\n",
        "    return redirect('task_list')\n",
        "'''\n",
        "with open(\"tasks/views.py\", \"w\") as f:\n",
        "    f.write(views_code)\n"
      ],
      "metadata": {
        "id": "SjLWhb4lWRfl"
      },
      "execution_count": null,
      "outputs": []
    },
    {
      "source": [
        "!django-admin startproject taskmanager"
      ],
      "cell_type": "code",
      "metadata": {
        "id": "TqGjhvuLWzp3"
      },
      "execution_count": null,
      "outputs": []
    },
    {
      "cell_type": "code",
      "source": [
        "urls_code = '''\n",
        "from django.contrib import admin\n",
        "from django.urls import path\n",
        "from tasks import views\n",
        "\n",
        "urlpatterns = [\n",
        "    path('admin/', admin.site.urls),\n",
        "    path('', views.task_list, name='task_list'),\n",
        "    path('add/', views.add_task, name='add_task'),\n",
        "    path('update/<int:id>/', views.update_task, name='update_task'),\n",
        "    path('delete/<int:id>/', views.delete_task, name='delete_task'),\n",
        "]\n",
        "'''\n",
        "with open(\"taskmanager/urls.py\", \"w\") as f:\n",
        "    f.write(urls_code)\n"
      ],
      "metadata": {
        "id": "SGe_FDyMWhvZ"
      },
      "execution_count": null,
      "outputs": []
    },
    {
      "cell_type": "code",
      "source": [
        "!mkdir -p tasks/templates/tasks\n",
        "\n",
        "with open(\"tasks/templates/tasks/task_list.html\", \"w\") as f:\n",
        "    f.write('''\n",
        "<h2>Task List</h2>\n",
        "<a href=\"/add/\">Add Task</a>\n",
        "<ul>\n",
        "{% for task in tasks %}\n",
        "    <li>{{ task.title }} - {{ task.description }}\n",
        "        <a href=\"/update/{{ task.id }}/\">Edit</a>\n",
        "        <a href=\"/delete/{{ task.id }}/\">Delete</a>\n",
        "    </li>\n",
        "{% endfor %}\n",
        "</ul>\n",
        "''')\n",
        "\n",
        "with open(\"tasks/templates/tasks/add_task.html\", \"w\") as f:\n",
        "    f.write('''\n",
        "<h2>Add Task</h2>\n",
        "<form method=\"post\">\n",
        "    {% csrf_token %}\n",
        "    <input type=\"text\" name=\"title\" placeholder=\"Title\"><br>\n",
        "    <textarea name=\"description\" placeholder=\"Description\"></textarea><br>\n",
        "    <button type=\"submit\">Add</button>\n",
        "</form>\n",
        "''')\n",
        "\n",
        "with open(\"tasks/templates/tasks/update_task.html\", \"w\") as f:\n",
        "    f.write('''\n",
        "<h2>Update Task</h2>\n",
        "<form method=\"post\">\n",
        "    {% csrf_token %}\n",
        "    <input type=\"text\" name=\"title\" value=\"{{ task.title }}\"><br>\n",
        "    <textarea name=\"description\">{{ task.description }}</textarea><br>\n",
        "    Completed: <input type=\"checkbox\" name=\"completed\" {% if task.completed %}checked{% endif %}><br>\n",
        "    <button type=\"submit\">Update</button>\n",
        "</form>\n",
        "''')\n"
      ],
      "metadata": {
        "id": "hXJxTSuNW5nO"
      },
      "execution_count": null,
      "outputs": []
    },
    {
      "cell_type": "code",
      "source": [
        "!echo \"from django.contrib.auth.models import User; User.objects.create_superuser('admin', 'admin@example.com', 'adminpass')\" | python manage.py shell\n"
      ],
      "metadata": {
        "colab": {
          "base_uri": "https://localhost:8080/"
        },
        "id": "EvKUWyDpXBhk",
        "outputId": "b7273459-050b-468e-daea-63df19d8f677"
      },
      "execution_count": null,
      "outputs": [
        {
          "output_type": "stream",
          "name": "stdout",
          "text": [
            "python3: can't open file '/content/manage.py': [Errno 2] No such file or directory\n"
          ]
        }
      ]
    },
    {
      "source": [
        "!ngrok authtoken YOUR_AUTHTOKEN"
      ],
      "cell_type": "code",
      "metadata": {
        "colab": {
          "base_uri": "https://localhost:8080/"
        },
        "id": "u6cs7fWNXfpb",
        "outputId": "2475c970-94d3-4628-c56c-75406f83bdb8"
      },
      "execution_count": null,
      "outputs": [
        {
          "output_type": "stream",
          "name": "stdout",
          "text": [
            "Authtoken saved to configuration file: /root/.config/ngrok/ngrok.yml\n"
          ]
        }
      ]
    },
    {
      "cell_type": "code",
      "source": [
        "!ngrok authtoken <your_actual_authtoken>\n"
      ],
      "metadata": {
        "colab": {
          "base_uri": "https://localhost:8080/"
        },
        "id": "axGOJkgXXU9M",
        "outputId": "39c6241a-afdd-45cf-9fda-8078e5cdc0d5"
      },
      "execution_count": null,
      "outputs": [
        {
          "output_type": "stream",
          "name": "stdout",
          "text": [
            "/bin/bash: -c: line 1: syntax error near unexpected token `newline'\n",
            "/bin/bash: -c: line 1: `ngrok authtoken <your_actual_authtoken>'\n"
          ]
        }
      ]
    },
    {
      "source": [
        "!ngrok authtoken 2NnW73n1x55jW77J7wS1xXXjYYk_2NnnnnnW77NnxxXXn"
      ],
      "cell_type": "code",
      "metadata": {
        "colab": {
          "base_uri": "https://localhost:8080/"
        },
        "id": "BxRHu9dKX6Lz",
        "outputId": "9b28ca85-0903-43d8-ac87-e7fa39338325"
      },
      "execution_count": null,
      "outputs": [
        {
          "output_type": "stream",
          "name": "stdout",
          "text": [
            "Authtoken saved to configuration file: /root/.config/ngrok/ngrok.yml\n"
          ]
        }
      ]
    },
    {
      "source": [
        "!ngrok authtoken 2NnW73n1x55jW77J7wS1xXXjYYk_2NnnnnnW77NnxxXXn"
      ],
      "cell_type": "code",
      "metadata": {
        "colab": {
          "base_uri": "https://localhost:8080/"
        },
        "id": "2Nk2zL2VYSAP",
        "outputId": "4a1586cf-0400-4aff-a27c-88c709ff5b64"
      },
      "execution_count": null,
      "outputs": [
        {
          "output_type": "stream",
          "name": "stdout",
          "text": [
            "Authtoken saved to configuration file: /root/.config/ngrok/ngrok.yml\n"
          ]
        }
      ]
    },
    {
      "source": [
        "from pyngrok import ngrok\n",
        "\n",
        "# Replace this with the actual token from your Ngrok dashboard\n",
        "ngrok.set_auth_token(\"2wXmeNTybifQa0erlfeSymIZr2H_6PLGuVQ3BiFRqGPXnrWvL\")  # <-- your real token here\n",
        "\n"
      ],
      "cell_type": "code",
      "metadata": {
        "id": "JYI4IpCFY94r"
      },
      "execution_count": null,
      "outputs": []
    },
    {
      "cell_type": "code",
      "source": [
        "!python manage.py runserver 0.0.0.0:8000\n"
      ],
      "metadata": {
        "colab": {
          "base_uri": "https://localhost:8080/"
        },
        "id": "fVHtPKoRYYou",
        "outputId": "e0b675d5-ed69-4058-ba4e-e8cce01b6f22"
      },
      "execution_count": null,
      "outputs": [
        {
          "output_type": "stream",
          "name": "stdout",
          "text": [
            "python3: can't open file '/content/manage.py': [Errno 2] No such file or directory\n"
          ]
        }
      ]
    },
    {
      "cell_type": "code",
      "source": [
        "public_url = ngrok.connect(8000)\n",
        "print(\"App Link:\", public_url)\n"
      ],
      "metadata": {
        "colab": {
          "base_uri": "https://localhost:8080/"
        },
        "id": "0rh_dyhwZt0u",
        "outputId": "6afbd9f9-62c2-4b63-8a11-9bee26e042f7"
      },
      "execution_count": null,
      "outputs": [
        {
          "output_type": "stream",
          "name": "stdout",
          "text": [
            "App Link: NgrokTunnel: \"https://c301-34-106-134-206.ngrok-free.app\" -> \"http://localhost:8000\"\n"
          ]
        }
      ]
    },
    {
      "cell_type": "code",
      "source": [],
      "metadata": {
        "id": "TjBssw_TZw3D"
      },
      "execution_count": null,
      "outputs": []
    }
  ]
}